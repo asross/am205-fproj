{
 "cells": [
  {
   "cell_type": "code",
   "execution_count": 25,
   "metadata": {
    "collapsed": true
   },
   "outputs": [],
   "source": [
    "from modular_matrix import *\n",
    "from transition_helpers import *\n",
    "import numpy as np\n",
    "from collections import Counter\n",
    "import matplotlib.pyplot as plt"
   ]
  },
  {
   "cell_type": "code",
   "execution_count": 2,
   "metadata": {
    "collapsed": true
   },
   "outputs": [],
   "source": [
    "def each_possible_grid(rows, cols, mod):\n",
    "    # each grid can be thought of as a number in base mod\n",
    "    for i in range(mod**(rows*cols)):\n",
    "        grid = np.zeros(rows*cols)\n",
    "        j = len(grid)-1\n",
    "        while i > 0:\n",
    "            grid[j] = i % mod\n",
    "            i = i // mod\n",
    "            j -= 1\n",
    "        yield grid.reshape((rows, cols))"
   ]
  },
  {
   "cell_type": "code",
   "execution_count": 3,
   "metadata": {
    "collapsed": true
   },
   "outputs": [],
   "source": [
    "def cycle_information(A, grid):\n",
    "    try:\n",
    "        b = grid.ravel()\n",
    "        seen = [tuple(b.astype(int))]\n",
    "        while True:\n",
    "            b = A.solve(b)\n",
    "            sight = tuple(b.astype(int))\n",
    "            if sight in seen:\n",
    "                return len(seen), seen.index(sight)\n",
    "            else:\n",
    "                seen.append(sight)\n",
    "    except SingularMatrixError:\n",
    "        return 0, 0"
   ]
  },
  {
   "cell_type": "code",
   "execution_count": 10,
   "metadata": {
    "collapsed": true
   },
   "outputs": [],
   "source": [
    "adj = lambda i, j: [[i,j,1],[i+1,j,1],[i-1,j,1],[i,j+1,1],[i,j-1,1]]\n",
    "\n",
    "def results_for_mod(k, n, m):\n",
    "    A = transition_matrix(adj, n, m, k)\n",
    "    if A.nullity() > 0:\n",
    "        return False\n",
    "    cycles = []\n",
    "    eigvecs = []\n",
    "    for grid in each_possible_grid(n, m, k):\n",
    "        length, index = cycle_information(A, grid)\n",
    "        cycles.append((length, index))\n",
    "        if length == 1:\n",
    "            eigvecs.append(grid)\n",
    "    return Counter(cycles), eigvecs"
   ]
  },
  {
   "cell_type": "code",
   "execution_count": 34,
   "metadata": {
    "collapsed": true
   },
   "outputs": [],
   "source": [
    "def summarize_results_for_mod(k, n, m):\n",
    "    counts, eigvecs = results_for_mod(k, n, m)\n",
    "    vals, weights = zip(*[(key[0], val) for key, val in counts.items()])\n",
    "    plt.hist(vals, weights=weights, bins=range(min(vals),max(vals)+2))\n",
    "    plt.show()"
   ]
  },
  {
   "cell_type": "code",
   "execution_count": 35,
   "metadata": {
    "collapsed": false
   },
   "outputs": [
    {
     "data": {
      "image/png": "[encoded data removed]",
      "text/plain": [
       "<matplotlib.figure.Figure at 0x1059f46d8>"
      ]
     },
     "metadata": {},
     "output_type": "display_data"
    }
   ],
   "source": [
    "summarize_results_for_mod(2, 2, 2)"
   ]
  },
  {
   "cell_type": "code",
   "execution_count": 37,
   "metadata": {
    "collapsed": false
   },
   "outputs": [
    {
     "data": {
      "image/png": "[encoded data removed]",
      "text/plain": [
       "<matplotlib.figure.Figure at 0x10256d630>"
      ]
     },
     "metadata": {},
     "output_type": "display_data"
    }
   ],
   "source": [
    "summarize_results_for_mod(4, 2, 2)"
   ]
  },
  {
   "cell_type": "code",
   "execution_count": 40,
   "metadata": {
    "collapsed": false
   },
   "outputs": [
    {
     "data": {
      "text/plain": [
       "(Counter({(1, 0): 12,\n",
       "          (2, 0): 36,\n",
       "          (6, 0): 72,\n",
       "          (7, 1): 144,\n",
       "          (8, 0): 96,\n",
       "          (8, 2): 48,\n",
       "          (9, 1): 180,\n",
       "          (9, 3): 108,\n",
       "          (10, 2): 60,\n",
       "          (10, 4): 84,\n",
       "          (11, 3): 72,\n",
       "          (11, 5): 72,\n",
       "          (12, 4): 60,\n",
       "          (12, 6): 60,\n",
       "          (13, 5): 60,\n",
       "          (13, 7): 24,\n",
       "          (14, 6): 60,\n",
       "          (14, 8): 12,\n",
       "          (15, 7): 36}),\n",
       " [array([[ 1.,  0.],\n",
       "         [ 0.,  5.]]), array([[ 1.,  1.],\n",
       "         [ 5.,  5.]]), array([[ 1.,  2.],\n",
       "         [ 4.,  5.]]), array([[ 1.,  3.],\n",
       "         [ 3.,  5.]]), array([[ 1.,  4.],\n",
       "         [ 2.,  5.]]), array([[ 1.,  5.],\n",
       "         [ 1.,  5.]]), array([[ 2.,  0.],\n",
       "         [ 0.,  4.]]), array([[ 2.,  1.],\n",
       "         [ 5.,  4.]]), array([[ 2.,  2.],\n",
       "         [ 4.,  4.]]), array([[ 2.,  3.],\n",
       "         [ 3.,  4.]]), array([[ 2.,  4.],\n",
       "         [ 2.,  4.]]), array([[ 2.,  5.],\n",
       "         [ 1.,  4.]])])"
      ]
     },
     "execution_count": 40,
     "metadata": {},
     "output_type": "execute_result"
    }
   ],
   "source": [
    "results_for_mod(6, 2, 2)"
   ]
  },
  {
   "cell_type": "code",
   "execution_count": 39,
   "metadata": {
    "collapsed": false
   },
   "outputs": [
    {
     "data": {
      "image/png": "[encoded data removed]",
      "text/plain": [
       "<matplotlib.figure.Figure at 0x1046d67f0>"
      ]
     },
     "metadata": {},
     "output_type": "display_data"
    }
   ],
   "source": [
    "summarize_results_for_mod(6, 2, 2)"
   ]
  },
  {
   "cell_type": "code",
   "execution_count": null,
   "metadata": {
    "collapsed": false
   },
   "outputs": [],
   "source": [
    "results_for_mod(6, 3, 3)"
   ]
  },
  {
   "cell_type": "code",
   "execution_count": null,
   "metadata": {
    "collapsed": true
   },
   "outputs": [],
   "source": []
  }
 ],
 "metadata": {
  "kernelspec": {
   "display_name": "Python 3",
   "language": "python",
   "name": "python3"
  },
  "language_info": {
   "codemirror_mode": {
    "name": "ipython",
    "version": 3
   },
   "file_extension": ".py",
   "mimetype": "text/x-python",
   "name": "python",
   "nbconvert_exporter": "python",
   "pygments_lexer": "ipython3",
   "version": "3.5.1"
  }
 },
 "nbformat": 4,
 "nbformat_minor": 1
}
